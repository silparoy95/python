{
  "nbformat": 4,
  "nbformat_minor": 0,
  "metadata": {
    "colab": {
      "provenance": []
    },
    "kernelspec": {
      "name": "python3",
      "display_name": "Python 3"
    },
    "language_info": {
      "name": "python"
    }
  },
  "cells": [
    {
      "cell_type": "code",
      "execution_count": 7,
      "metadata": {
        "colab": {
          "base_uri": "https://localhost:8080/"
        },
        "id": "3ZHu-dUc9ahn",
        "outputId": "89f60790-8943-41be-c0d7-bba0b01005e1"
      },
      "outputs": [
        {
          "output_type": "stream",
          "name": "stdout",
          "text": [
            "Please select the type of operation:\n",
            "+ for addition\n",
            "- for subtraction\n",
            "* for multiplication\n",
            "/ for division\n",
            "-\n",
            "Enter your first number: 8\n",
            "Enter your second number: 6\n",
            "8 - 6 = \n",
            "2\n"
          ]
        }
      ],
      "source": [
        "choice = input('''Please select the type of operation:\n",
        "+ for addition\n",
        "- for subtraction\n",
        "* for multiplication\n",
        "/ for division\n",
        "''')\n",
        "num_1 = int(input('Enter your first number: '))\n",
        "num_2 = int(input('Enter your second number: '))\n",
        " \n",
        "if choice == '+':\n",
        "    print('{} + {} = '.format(num_1, num_2))\n",
        "    print(num_1 + num_2)\n",
        " \n",
        "elif choice == '-':\n",
        "    print('{} - {} = '.format(num_1, num_2))\n",
        "    print(num_1 - num_2)\n",
        " \n",
        "elif choice == '*':\n",
        "    print('{} * {} = '.format(num_1, num_2))\n",
        "    print(num_1 * num_2)\n",
        " \n",
        "elif choice == '/':\n",
        "    print('{} / {} = '.format(num_1, num_2))\n",
        "    print(num_1 / num_2)\n",
        " \n",
        "else:\n",
        "    print('Enter a valid operator')"
      ]
    }
  ]
}