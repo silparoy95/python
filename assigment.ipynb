{
  "nbformat": 4,
  "nbformat_minor": 0,
  "metadata": {
    "colab": {
      "provenance": []
    },
    "kernelspec": {
      "name": "python3",
      "display_name": "Python 3"
    },
    "language_info": {
      "name": "python"
    }
  },
  "cells": [
    {
      "cell_type": "code",
      "execution_count": 64,
      "metadata": {
        "id": "3AlHEKvIhd_C"
      },
      "outputs": [],
      "source": [
        "myfile = open(\"Python.txt\", \"w\")"
      ]
    },
    {
      "cell_type": "code",
      "source": [
        "myfile=open(\"Python.txt\",\"r\")\n",
        "print(myfile.read())"
      ],
      "metadata": {
        "colab": {
          "base_uri": "https://localhost:8080/"
        },
        "id": "9duhkasHkQxm",
        "outputId": "4cc536b1-458e-4a79-c37e-6ca10afc460e"
      },
      "execution_count": 66,
      "outputs": [
        {
          "output_type": "stream",
          "name": "stdout",
          "text": [
            "\n"
          ]
        }
      ]
    },
    {
      "cell_type": "code",
      "source": [
        "myfile.close()"
      ],
      "metadata": {
        "id": "3LihtbpHk5yC"
      },
      "execution_count": 67,
      "outputs": []
    },
    {
      "cell_type": "code",
      "source": [
        "myfile = open(\"Python.txt\", \"w+\")\n",
        "myfile.write(\"hi good evening\")"
      ],
      "metadata": {
        "colab": {
          "base_uri": "https://localhost:8080/"
        },
        "id": "buuw4amdlPfA",
        "outputId": "75595fb7-23a0-4128-d3c6-63b976d875f1"
      },
      "execution_count": 68,
      "outputs": [
        {
          "output_type": "execute_result",
          "data": {
            "text/plain": [
              "15"
            ]
          },
          "metadata": {},
          "execution_count": 68
        }
      ]
    },
    {
      "cell_type": "code",
      "source": [
        "myfile=open(\"Python.txt\",\"r\")\n",
        "print(myfile.read())"
      ],
      "metadata": {
        "colab": {
          "base_uri": "https://localhost:8080/"
        },
        "id": "Jm9WpsVYlVzn",
        "outputId": "a71ffab3-042d-4aaa-d090-67e582956cfc"
      },
      "execution_count": 70,
      "outputs": [
        {
          "output_type": "stream",
          "name": "stdout",
          "text": [
            "hi good evening\n"
          ]
        }
      ]
    },
    {
      "cell_type": "code",
      "source": [
        "myfile=open(\"Python.txt\",\"a+\")\n",
        "myfile.write(\"\\n Have a nice day\")"
      ],
      "metadata": {
        "colab": {
          "base_uri": "https://localhost:8080/"
        },
        "id": "Ss-8hSMpiSOX",
        "outputId": "ea9d444c-da38-4b72-c629-5b2e800d9805"
      },
      "execution_count": 73,
      "outputs": [
        {
          "output_type": "execute_result",
          "data": {
            "text/plain": [
              "17"
            ]
          },
          "metadata": {},
          "execution_count": 73
        }
      ]
    },
    {
      "cell_type": "code",
      "source": [
        "myfile=open(\"Python.txt\",\"r+\")\n",
        "print(myfile.read())"
      ],
      "metadata": {
        "colab": {
          "base_uri": "https://localhost:8080/"
        },
        "id": "EpfoG9JJjjHf",
        "outputId": "a8e953fc-1511-4e2f-eff8-251bc754e539"
      },
      "execution_count": 74,
      "outputs": [
        {
          "output_type": "stream",
          "name": "stdout",
          "text": [
            "hi good evening\n",
            " Have a nice day\n"
          ]
        }
      ]
    }
  ]
}