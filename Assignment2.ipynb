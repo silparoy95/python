{
  "nbformat": 4,
  "nbformat_minor": 0,
  "metadata": {
    "colab": {
      "provenance": []
    },
    "kernelspec": {
      "name": "python3",
      "display_name": "Python 3"
    },
    "language_info": {
      "name": "python"
    }
  },
  "cells": [
    {
      "cell_type": "code",
      "source": [
        "##write a program to print the largest and smallest number of the list "
      ],
      "metadata": {
        "id": "7FxmnxatbhZ4"
      },
      "execution_count": 6,
      "outputs": []
    },
    {
      "cell_type": "code",
      "execution_count": 5,
      "metadata": {
        "colab": {
          "base_uri": "https://localhost:8080/"
        },
        "id": "4779o8bia4bQ",
        "outputId": "b34a6f2e-4c70-4f2f-c280-477d8b215fe1"
      },
      "outputs": [
        {
          "output_type": "stream",
          "name": "stdout",
          "text": [
            "How many numbers: 6\n",
            "Enter number 67\n",
            "Enter number 7\n",
            "Enter number 5\n",
            "Enter number 6\n",
            "Enter number 0\n",
            "Enter number 80\n",
            "Maximum element in the list is : 80 \n",
            "Minimum element in the list is : 0\n"
          ]
        }
      ],
      "source": [
        "lst = []\n",
        "num = int(input('How many numbers: '))\n",
        "for n in range(num):\n",
        "    numbers = int(input('Enter number '))\n",
        "    lst.append(numbers)\n",
        "print(\"Maximum element in the list is :\", max(lst), \"\\nMinimum element in the list is :\", min(lst))"
      ]
    },
    {
      "cell_type": "code",
      "source": [
        "## write a program to delete the odd number in a list and print the even numbers"
      ],
      "metadata": {
        "id": "pBf5DYUYbrRU"
      },
      "execution_count": 12,
      "outputs": []
    },
    {
      "cell_type": "code",
      "source": [
        "def remove_odd(l):\n",
        "    return [x for x in l if x % 2 == 0]\n",
        "remove_odd([4,5,4,7,9,11,12,13])    "
      ],
      "metadata": {
        "colab": {
          "base_uri": "https://localhost:8080/"
        },
        "id": "G7kL08FCb4sm",
        "outputId": "023de993-5a07-437d-970f-2bbddfb3cd3e"
      },
      "execution_count": 11,
      "outputs": [
        {
          "output_type": "execute_result",
          "data": {
            "text/plain": [
              "[4, 4, 12]"
            ]
          },
          "metadata": {},
          "execution_count": 11
        }
      ]
    },
    {
      "cell_type": "code",
      "source": [
        "## Write a program to delete the alternative numbers in a list"
      ],
      "metadata": {
        "id": "L4wKNYvQQena"
      },
      "execution_count": 13,
      "outputs": []
    },
    {
      "cell_type": "code",
      "source": [
        "list1 = [10, 20, 30, 40, 50, 60, 70]\n",
        "\n",
        "print(\"The list is: \")\n",
        "print(list1)\n",
        "\n",
        "indices = 0, 2, 4\n",
        "list1 = [i for j, i in enumerate(list1) if j not in indices]\n",
        "\n",
        "print(\"After removing elements, list is: \")\n",
        "print(list1)"
      ],
      "metadata": {
        "colab": {
          "base_uri": "https://localhost:8080/"
        },
        "id": "kbacqWzoWDLJ",
        "outputId": "0602dd13-571c-4c11-e46b-275041dea277"
      },
      "execution_count": 22,
      "outputs": [
        {
          "output_type": "stream",
          "name": "stdout",
          "text": [
            "The list is: \n",
            "[10, 20, 30, 40, 50, 60, 70]\n",
            "After removing elements, list is: \n",
            "[20, 40, 60, 70]\n"
          ]
        }
      ]
    }
  ]
}